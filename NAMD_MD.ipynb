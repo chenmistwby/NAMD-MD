{
  "nbformat": 4,
  "nbformat_minor": 0,
  "metadata": {
    "colab": {
      "name": "NAMD_MD.ipynb",
      "provenance": [],
      "collapsed_sections": [],
      "include_colab_link": true
    },
    "kernelspec": {
      "display_name": "Python 3",
      "name": "python3"
    }
  },
  "cells": [
    {
      "cell_type": "markdown",
      "metadata": {
        "id": "view-in-github",
        "colab_type": "text"
      },
      "source": [
        "<a href=\"https://colab.research.google.com/github/quantaosun/NAMD-MD/blob/main/NAMD_MD.ipynb\" target=\"_parent\"><img src=\"https://colab.research.google.com/assets/colab-badge.svg\" alt=\"Open In Colab\"/></a>"
      ]
    },
    {
      "cell_type": "markdown",
      "metadata": {
        "id": "VVaXwqhBl8ZC"
      },
      "source": [
        "# 👋 Hi there, hope you safe and well. This is for a general simulation procedure for any RCSB PDB structures containing ligand, with a special focous on small molecules. \n",
        "\n",
        "This notebook take http://zarbi.chem.yale.edu/ligpargen/namd_tutorial.html as a reference. This notebook is wrritten by quantaosun@gmail.com in Shanghai, China, 2021.\n"
      ]
    },
    {
      "cell_type": "markdown",
      "metadata": {
        "id": "MgB8tSXI_NwQ"
      },
      "source": [
        "# The tutorial uses an example structure of T4 Lysozyme L99A with a Benzene molecule bound (PDB ID: 4W52.pdb)"
      ]
    },
    {
      "cell_type": "markdown",
      "metadata": {
        "id": "aTCtNy4mnN_A"
      },
      "source": [
        "**The overall procedure is as below**\n",
        "\n",
        "0.   Install Anaconda\n",
        "1.   Install pymol, vmd, and openmm, pdbfixer\n",
        "2.   User input a PDB ID, pdbfixer fix and prepare it\n",
        "3.   separate ligand and protein\n",
        "4.   generate topology for ligand using LigParGen server\n",
        "5.   combine psf and pdb of protein and ligand, vmd prepare NAMD input files.\n",
        "6.   generate conf file for NAMD simulation. \n",
        "7.   use GPU accelerted NAMD simulate the job\n",
        "\n",
        "\n"
      ]
    },
    {
      "cell_type": "markdown",
      "metadata": {
        "id": "C7nEUzeAblJl"
      },
      "source": [
        "# Now Switch to GPU"
      ]
    },
    {
      "cell_type": "markdown",
      "metadata": {
        "id": "rW1iQE26-ao4"
      },
      "source": [
        "-------------------------------------------------------------------------\n",
        "When you see a 👋 symbol, that is where you need to click the play button.\n",
        "When you see a ⚠️ or ⚠️⚠️， that is where eithter need you to do some extra work or a reminder it is easy to go wrong.\n",
        "-------------------------------------------------------------------------\n",
        "\n",
        "---\n",
        "\n"
      ]
    },
    {
      "cell_type": "code",
      "metadata": {
        "id": "rkgDkEmUt16u",
        "cellView": "form"
      },
      "source": [
        "#@title 👋 1.Install Dependencies, this could take a while.\n",
        "!mkdir external-libraries\n",
        "! wget https://repo.anaconda.com/miniconda/Miniconda3-py37_4.8.2-Linux-x86_64.sh\n",
        "! chmod +x Miniconda3-py37_4.8.2-Linux-x86_64.sh\n",
        "! bash ./Miniconda3-py37_4.8.2-Linux-x86_64.sh -b -f -p /home/aistudio/external-libraries\n",
        "#@title Install Pymol\n",
        "! yes | /home/aistudio/external-libraries/bin/conda install -c conda-forge vmd\n",
        "#@title Install VMD\n",
        "\n",
        "!yes | /home/aistudio/external-libraries/bin/conda install -c conda-forge pymol-open-source\n",
        "#install openmm\n",
        "!yes | /home/aistudio/external-libraries/bin/conda install -c conda-forge openmm\n",
        "#install pdbfixer\n",
        "!yes | /home/aistudio/external-libraries/bin/conda install -c conda-forge pdbfixer\n",
        "! /home/aistudio/external-libraries/bin/pip install py3Dmol\n",
        "!yes | /home/aistudio/external-libraries/bin/conda install -c rdkit rdkit\n",
        "#install csh shell for step 8 or step 9\n",
        "!apt-get install csh\n",
        "import sys\n",
        "sys.path.append('/home/aistudio/external-libraries/lib/python3.7/')\n",
        "import sys\n",
        "sys.path.append('/home/aistudio/external-libraries/lib/python3.7/site-packages/')\n",
        "#import rdkit for visualization purpose\n",
        "from rdkit import Chem\n",
        "from rdkit.Chem import AllChem\n",
        "from rdkit.Chem import Draw\n",
        "from rdkit.Chem.Draw import IPythonConsole\n",
        "from rdkit.Chem import DataStructs\n",
        "from rdkit.Chem import RDConfig\n",
        "from rdkit.Chem import rdBase\n",
        "from rdkit.Chem import MolFromPDBFile"
      ],
      "execution_count": null,
      "outputs": []
    },
    {
      "cell_type": "code",
      "metadata": {
        "id": "aD4sThcJCwPN",
        "cellView": "form"
      },
      "source": [
        "\n",
        "#@title 👋 2.Input a PDB id. This will download and prepare this PDB complex.\n",
        "\n",
        "complex = \"4W52\" #@param {type:\"string\"}\n",
        "pdb = complex + \".pdb\"\n",
        "!wget http://www.pdb.org/pdb/files/'{pdb}'\n",
        "#!/home/aistudio/external-libraries/bin/pdbfixer  '{pdb}' --ph=7  --replace-nonstandard --add-residues "
      ],
      "execution_count": null,
      "outputs": []
    },
    {
      "cell_type": "code",
      "metadata": {
        "id": "zsLrEZ64x3kJ",
        "cellView": "form"
      },
      "source": [
        "#@title 👋 3.Spilit protien and ligand, capital letters only.\n",
        "pdb_id = \"4W52\" #@param {type:\"string\"}\n",
        "ligand_name = \"BNZ\" #@param {type:\"string\"}\n",
        "#create ligand= resn H3E \n",
        "#create active_water= resn HOH within 5 of ligand\n",
        "#remove resn HOH &! active_water\n",
        "com_file = open('prepare.pml','w')\n",
        "com_file.write('''\n",
        "load 4W52.pdb\n",
        "remove resn HOH\n",
        "h_add elem O or elem N\n",
        "select 4W52-BNZ, resn BNZ \n",
        "select 4W52-receptor, 4W52 and not 4W52-BNZ\n",
        "save 4W52-BNZ.pdb, 4W52-BNZ\n",
        "save 4W52-receptor.pdb, 4W52-receptor    \n",
        "''')\n",
        "com_file.close()\n",
        "!sed -i \"s/4W52/$pdb_id/g\" prepare.pml\n",
        "!sed -i \"s/BNZ/$ligand_name/g\" prepare.pml\n",
        "#@title 3.Spilit complex to protein and ligand\n",
        "%cd /content/\n",
        "! /home/aistudio/external-libraries/bin/pymol -c prepare.pml\n",
        "#for the sake of LigParGen, we need add H atom to ligand"
      ],
      "execution_count": null,
      "outputs": []
    },
    {
      "cell_type": "markdown",
      "metadata": {
        "id": "1uVJRwrOPktm"
      },
      "source": [
        "# 👋 ⚠️4.Download ligand, Uplaod it (Ligand should be added with H atoms before submitting.) to LigParGen, download the generated ZIP file.  Upload the *zip file here.\n",
        "http://zarbi.chem.yale.edu/ligpargen/index.html "
      ]
    },
    {
      "cell_type": "code",
      "metadata": {
        "id": "BuJHRllm7t2l",
        "cellView": "form"
      },
      "source": [
        "#@title 👋 ⚠️ 5. Combine and Manupilate Structures. remove any line with TER and the connectivity information. Moreover, change the residue number of Benzene ligand for continuity according to the last residue number of the protein, and add a ⚠ Chain name like ⚠️a capital B to the ligand if there is no one. then upload the complex_fixed.pdb here.\n",
        "Topology_ZIP_file_name_from_LigParGen = \"BNZ_6AA283\" #@param {type:\"string\"}\n",
        "protein_name = \"4W52-receptor\" #@param {type:\"string\"}\n",
        "ligand_name = \"BNZ_6AA283\" #@param {type:\"string\"}\n",
        "\n",
        "zip = Topology_ZIP_file_name_from_LigParGen + \".zip\"\n",
        "protein = protein_name + \".pdb\"\n",
        "ligand = ligand_name + \".pdb\"\n",
        "%cd /content\n",
        "!unzip $zip\n",
        "!cp tmp/*.pdb ./\n",
        "!cp tmp/*.prm ./\n",
        "!cp tmp/*.rtf ./\n",
        "!cat $protein  $ligand > complex.pdb"
      ],
      "execution_count": null,
      "outputs": []
    },
    {
      "cell_type": "code",
      "metadata": {
        "id": "0asPiODsiMAW",
        "cellView": "form"
      },
      "source": [
        "#@title  👋 ⚠️6. Generate ionized.pdb and ionized.psf with VMD by filling the RTF name download from LigParGen. Alternatively, you could refer to http://zarbi.chem.yale.edu/ligpargen/namd_tutorial.html \n",
        "RTF_name = \"BNZ_6AA283\" #@param {type:\"string\"}\n",
        "#Download opls amino acid topology file.\n",
        "!wget http://traken.chem.yale.edu/doc/top_opls_aam.inp\n",
        "com_file = open('UNK.pgn','w')\n",
        "com_file.write('''\n",
        "package require psfgen   \n",
        "topology top_opls_aam.inp\n",
        "topology BNZ.rtf \n",
        "\n",
        "pdbalias HIS HSD\n",
        "pdbalias atom SER HG HG1\n",
        "pdbalias residue HIS HSE     \n",
        "pdbalias atom ILE CD1 CD\n",
        "\n",
        "segment A {pdb complex.pdb}  \n",
        "coordpdb complex.pdb A   \n",
        "guesscoord   \n",
        "writepdb complex_autopsf.pdb     \n",
        "writepsf complex_autopsf.psf \n",
        "\n",
        "package require solvate  \n",
        "solvate complex_autopsf.psf complex_autopsf.pdb -t 5 -o complex_wb \n",
        "package require autoionize\n",
        "autoionize -psf complex_wb.psf -pdb complex_wb.pdb -neutralize -o ionized\n",
        "set ubq [atomselect top all]\n",
        "measure minmax $ubq  \n",
        "measure center $ubq   \n",
        "exit    \n",
        "''')\n",
        "com_file.close()\n",
        "!sed -i \"s/BNZ/{RTF_name}/g\" UNK.pgn\n",
        "!/home/aistudio/external-libraries/bin/vmd -dispdev text -e UNK.pgn"
      ],
      "execution_count": null,
      "outputs": []
    },
    {
      "cell_type": "markdown",
      "metadata": {
        "id": "pQuXKii_J3Hk"
      },
      "source": [
        "⚠️7. Download and modify the NAMD conf files, change periodic vectors in minimisation and nvt conf. Change parameter file path and simulation steps if necessary\n",
        "\n",
        "\n",
        "```\n",
        "# ⚠️Use the command here to measure the water box size, then put the dimension vector to the PBC section of the conf files⚠️\n",
        "set all [atomselect top all] \n",
        "set mm [measure minmax $all] # use the DIMENSION between MIN and MAX for CELL BASIS VECTOR DIMENSION\n",
        "measure center $all # Use the CENTER for CELLBASIS ORIGIN\n",
        "\n",
        "```\n",
        "\n"
      ]
    },
    {
      "cell_type": "code",
      "metadata": {
        "cellView": "form",
        "id": "6aJ32tCkthTM",
        "outputId": "7dc006c8-25a3-4468-a64f-09a45effde61",
        "colab": {
          "base_uri": "https://localhost:8080/"
        }
      },
      "source": [
        "#@title Mount to Goole Drive\n",
        "from google.colab import drive\n",
        "drive.mount('/content/drive')"
      ],
      "execution_count": 36,
      "outputs": [
        {
          "output_type": "stream",
          "name": "stdout",
          "text": [
            "Mounted at /content/drive\n"
          ]
        }
      ]
    },
    {
      "cell_type": "code",
      "metadata": {
        "id": "fbjsJJyLl0u7",
        "cellView": "form"
      },
      "source": [
        "#@title 👋 7.Prepare NAMD software.\n",
        "NAMD_tarball_PATH = \"/content/drive/MyDrive/softwares/NAMD_3.0alpha8_Linux-x86_64-multicore-CUDA-SingleNode.tar.gz\" #@param {type:\"string\"}\n",
        "\n",
        "!tar -xvf '{NAMD_tarball_PATH}'\n"
      ],
      "execution_count": null,
      "outputs": []
    },
    {
      "cell_type": "code",
      "metadata": {
        "cellView": "form",
        "id": "kkTNPaSduwHL",
        "outputId": "7bae6944-7538-4e7c-bd0f-8cbdcae21472",
        "colab": {
          "base_uri": "https://localhost:8080/"
        }
      },
      "source": [
        "#@title 👋 ⚠️8.Download NAMD confiles and then manually modify it acoording to current input files.\n",
        "!wget https://raw.githubusercontent.com/quantaosun/NAMD-MD/main/step4_equilibration.inp\n",
        "!wget  https://raw.githubusercontent.com/quantaosun/NAMD-MD/main/step5_production.inp\n",
        "!cp *.namd simulation\n",
        "%cd simulation\n",
        "!"
      ],
      "execution_count": 44,
      "outputs": [
        {
          "output_type": "stream",
          "name": "stdout",
          "text": [
            "/content/simulation\n"
          ]
        }
      ]
    },
    {
      "cell_type": "code",
      "metadata": {
        "id": "jnmaGGail0xk",
        "cellView": "form"
      },
      "source": [
        "#@title 👋 9.Run the Simulation and Copy result back to Goolge Drive every 1 ns, by default this is a 10-ns simulation\n",
        "#%cd /content/simulation\n",
        "#!wget https://raw.githubusercontent.com/quantaosun/NAMD-MD/main/run.csh\n",
        "!csh run.csh\n",
        "\n"
      ],
      "execution_count": null,
      "outputs": []
    },
    {
      "cell_type": "markdown",
      "metadata": {
        "id": "IGIdKI7hnFuE"
      },
      "source": [
        "# If your encounter some issue, please report it on github or write me an email quantaosun@gmail.com ヾ(￣▽￣)Bye~Bye~"
      ]
    }
  ]
}